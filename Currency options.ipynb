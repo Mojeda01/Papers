{
 "cells": [
  {
   "cell_type": "code",
   "execution_count": 1,
   "id": "0afc738f-bf47-466b-b0e3-d49d5ce2412e",
   "metadata": {},
   "outputs": [],
   "source": [
    "import numpy as np"
   ]
  },
  {
   "cell_type": "markdown",
   "id": "7c1da756-1306-4d97-b564-c7971535e1f2",
   "metadata": {},
   "source": [
    "# Valuing a two-period European call\n",
    "**Problem:** Suppose the current price of Ringeriksnett is NOK 50 per share. In each of the next two years, the stock price will either increase by 20% or decrease by 10%. The 3% one-year risk-free rate of interest will remain constant. Calculate the price of a two-year European call option on Ringeriksnett with strike price NOK 60."
   ]
  },
  {
   "cell_type": "code",
   "execution_count": 28,
   "id": "2874cd0b-020f-470c-b01d-7c2c3f0481e9",
   "metadata": {},
   "outputs": [
    {
     "name": "stdout",
     "output_type": "stream",
     "text": [
      "Binomial Tree:\n",
      " [[50.  60.  72. ]\n",
      " [ 0.  45.  54. ]\n",
      " [ 0.   0.  40.5]]\n",
      "\n",
      " Call Option Values at Maturity:\n",
      " [12.  0.  0.]\n"
     ]
    }
   ],
   "source": [
    "S0 = 50 # Initial stock price \n",
    "K = 60 # Strike price\n",
    "u = 1.2 # up factor\n",
    "d = 0.9 # down factor \n",
    "T = 2 # number of time steps\n",
    "r = 0.03 # risk-free rate of interest\n",
    "\n",
    "# Create a 2D numpy array to store the 3 levels: t0 t1 t2\n",
    "tree = np.zeros((T + 1, T + 1))\n",
    "tree\n",
    "\n",
    "# Populate the tree with asset prices\n",
    "for t in range(T + 1):\n",
    "    for i in range(t + 1):\n",
    "        tree[i, t] = S0 * (u ** (t - i)) * (d ** i)\n",
    "\n",
    "# Compute put option values at maturity\n",
    "call_values = np.maximum(0,tree[:, T] - K )\n",
    "\n",
    "# Display results\n",
    "print(\"Binomial Tree:\\n\", tree)\n",
    "print(\"\\n Call Option Values at Maturity:\\n\", call_values)"
   ]
  },
  {
   "cell_type": "markdown",
   "id": "629589e1-dd89-4f82-a97a-7ef2e94727fd",
   "metadata": {},
   "source": [
    "## Looking at the equations for the binomial model.\n",
    "A good way to see where these numbers come from is to remember that in the binomial model you solve for the replicating portfolio ($\\Delta, B$) by forcing the portfolio to have exactly the same payoff as the option in both the up and down states.\n",
    "\n",
    "1. **Set up the two equations:** At the \"60\" node, the stock can go up to 72 (in which case the option is worth 12) or down to 54 (in which case the option is worth 0). We want to hold $\\Delta$ shares of the stock and $B$ in the risk-free asset so that:\n",
    "\n",
    "$$\n",
    "1.03B + 72\\Delta = 12 \n",
    "$$\n",
    "\n",
    "$$\n",
    "1.03B + 54\\Delta = 0\n",
    "$$\n",
    "\n",
    "* The first equation says that if the stock ends at 72, then $\\Delta$ shares plus interest on $B$ must match the option payoff of 12.\n",
    "* The second equation says that if the stock ends at 54, then $\\Delta$ shares plus interest on $B$ must match the option payoff of 0."
   ]
  },
  {
   "cell_type": "markdown",
   "id": "3b81f8c1-c245-488e-acaf-c11172f6d18c",
   "metadata": {},
   "source": [
    "2. **Subtract the second equation from the first to find $\\Delta$**:\n",
    "\n",
    "$$\n",
    "(1.03B + 72\\Delta) - (1.03B+52\\Delta)=12-0\n",
    "$$\n",
    "\n",
    "$$\n",
    "1.03B + 72\\Delta - 1.03B - 52\\Delta = 12-0\n",
    "$$\n",
    "\n",
    "$$\n",
    "18\\Delta=12\\Rightarrow\\Delta=\\frac{12}{18}\\Rightarrow\\Delta=\\frac{2}{3}\n",
    "$$"
   ]
  },
  {
   "cell_type": "markdown",
   "id": "8d4e36b3-345b-4496-9e98-2f30de7a271c",
   "metadata": {},
   "source": [
    "3. **Substitute \\Delta=2/3 back to solve for $B$**: Pick either equation (usually the simpler one). From the second equation,\n",
    "\n",
    "$$\n",
    "1.03B + 54\\cdot\\frac{2}{3}=0\\Rightarrow 1.03B + 36 = 0 \\Rightarrow B = -\\frac{36}{1.03}=-34.95\n",
    "$$"
   ]
  },
  {
   "cell_type": "markdown",
   "id": "5e496b38-4f0a-4c2c-a5ca-024dd57c0653",
   "metadata": {},
   "source": [
    "The value of the option at \"node 60\" is:\n",
    "\n",
    "$$\n",
    "-34.95 + 2/3 \\cdot 60 = 5.0485\n",
    "$$"
   ]
  },
  {
   "cell_type": "markdown",
   "id": "fed82cdf-b17d-4cec-8838-1bf097c29c10",
   "metadata": {},
   "source": [
    "Now looking at node 60 and 45, we have the equations\n",
    "$$\n",
    "1.03B + 60\\Delta = 5.0485\n",
    "$$\n",
    "\n",
    "$$\n",
    "1.03B + 45\\Delta = 0\n",
    "$$"
   ]
  },
  {
   "cell_type": "markdown",
   "id": "7c7fd0eb-a7b6-4e90-b521-19d02f6a7fb5",
   "metadata": {},
   "source": [
    "We will then subtract the second equation from the first to find the $\\Delta$:\n",
    "$$\n",
    "(1.03B + 60\\Delta)-(1.03B + 45\\Delta) = 5.0485 - 0\n",
    "$$\n",
    "\n",
    "$$\n",
    "60\\Delta - 45\\Delta = 5.0485 \\Rightarrow 15\\Delta=5.0485 \\Rightarrow \\Delta = \\frac{5.0485}{15}=0.3365\n",
    "$$\n",
    "\n",
    "The value of the bond would then be:\n",
    "\n",
    "$$\n",
    "1.03B + 45\\cdot 0.3365 = 0 \\Rightarrow B = -\\frac{45\\cdot0.3365}{1.03}=-15.1456\n",
    "$$"
   ]
  },
  {
   "cell_type": "markdown",
   "id": "4989aeb3-27fe-46c1-906c-d670c75c6cba",
   "metadata": {},
   "source": [
    "The value of the option is:\n",
    "\n",
    "$$\n",
    "B+\\Delta \\cdot 50 = -15.1456 + 0.3365 \\cdot 50 = 1.67\n",
    "$$"
   ]
  },
  {
   "cell_type": "markdown",
   "id": "706afdd5-7d7d-4743-b930-d6341cbbfd79",
   "metadata": {},
   "source": [
    "# Binomial model for currency options\n",
    "**Problem:**\n",
    "* $S_0=100NOK/100DKK$, $r_N=5\\%$ p:p, $r_D=3.9604\\%$\n",
    "* $S_1$ is either $S_{1;u}=110$ (\"up\") or $S_{1,d}=95$ (\"down\").\n",
    "* What is the value of 1-period European-style call with strike $X=105$"
   ]
  },
  {
   "cell_type": "markdown",
   "id": "248bd8bb-4fe5-4505-b79b-2b65006fd04c",
   "metadata": {},
   "source": [
    "## The Equation for the \"up\" state or $S_{1;u}$\n",
    "$$\n",
    "x\\space DKK \\cdot 1.10\\frac{NOK}{DKK} \\cdot 1.039604 + y\\space NOK \\cdot 1.05 = 0.05\\space NOK\n",
    "$$"
   ]
  },
  {
   "cell_type": "markdown",
   "id": "162daa07-e484-43d0-b458-6343a1912a03",
   "metadata": {},
   "source": [
    "1. $x\\space DKK$ - The replicating portfolio holds $x$ Danish kroner at time 0."
   ]
  },
  {
   "cell_type": "markdown",
   "id": "4cdef25d-2670-40d2-8913-ca77b76b28c5",
   "metadata": {},
   "source": [
    "2. $\\cdot 1.10\\frac{NOK}{DKK}$ - In the **up state**, the exchange rate is 1.10 NOK per 1 DKK, so your convert into NOK at that rate."
   ]
  },
  {
   "cell_type": "markdown",
   "id": "da75beb2-1bf4-4d86-a4dc-2d56c8a06d50",
   "metadata": {},
   "source": [
    "3. $\\cdot 1.039604$ - While your $x$ DKK were invested, they **accrued interest at the Danish risk-free rate**, $r_D=3.9604\\%$. Over one period, 1 DKK grows to 1.039604 DKK. (The product is commutative, so you sometimes see the 1.039604 before the 1.10 factor. The idea is just: \"DKK first grows by 3.9604%, then gets converted to NOK at 1.10\")\n"
   ]
  },
  {
   "cell_type": "markdown",
   "id": "d6b21b44-75ac-4de5-baea-007eed5981df",
   "metadata": {},
   "source": [
    "4. $+y\\space NOK\\cdot 1.05$ - The replicating portfolio also holds $y$ Norwegian kroner. Those NOK **accrue interest at the Norwegian risk-free rate,** $r_N=5\\%$, so 1 NOK grows to 1.05 NOK over one period. Hence $y\\space NOK$ becomes $y\\times1.05\\space NOK$."
   ]
  },
  {
   "cell_type": "markdown",
   "id": "03a71b03-fa52-4848-899f-e707e5809eea",
   "metadata": {},
   "source": [
    "5. $=0.05\\space NOK$ - In the up state, the call-option payoff is 0.05 NOK. We want our combination of DKK-investment converted-to-NOK plus NOK-investment to replicate (match) that 0.05 NOK payoff exactly"
   ]
  },
  {
   "cell_type": "markdown",
   "id": "bfabacc7-f236-4a84-bd53-0ccb04fa5a70",
   "metadata": {},
   "source": [
    "## The Equation for the \"down\" state $S_{1;d}$\n",
    "$$\n",
    "x\\space DKK \\cdot 0.95\\frac{NOK}{DKK}\\cdot 1.039604 + y\\space NOK\\cdot 1.05 = 0 NOK\n",
    "$$"
   ]
  },
  {
   "cell_type": "markdown",
   "id": "9e4ca9ff-0255-4d95-8e5f-8e0945da5658",
   "metadata": {},
   "source": [
    "1. $x\\space DKK$ - The same $x$ units of DKK as above are still held in the replicating portfolio"
   ]
  },
  {
   "cell_type": "markdown",
   "id": "6d169b38-2b36-4af4-8559-066d1e4268b7",
   "metadata": {},
   "source": [
    "2. $\\cdot\\space 0.95\\frac{NOK}{DKK}$ - In the down state, 1DKK = 0.95 NOK"
   ]
  },
  {
   "cell_type": "markdown",
   "id": "bcb797a6-8f8f-4c4f-ab12-97628ce587a7",
   "metadata": {},
   "source": [
    "3. $\\cdot 1.039605$ - Again, those $x$ DKK earn Danish interest at 3.9604%, so 1 DKK becomes 1.039604 DKK before you convert it into NOK."
   ]
  },
  {
   "cell_type": "markdown",
   "id": "4f27a2f0-d058-4cfd-b3c7-55a805088cdf",
   "metadata": {},
   "source": [
    "4. $+y\\space NOK\\cdot 1.05$ - The $y$ NOK portion still earns 5% and ends up as $y\\times 1.05$ NOK."
   ]
  },
  {
   "cell_type": "markdown",
   "id": "696a92ba-3a44-47cb-814d-6d52f6fd4b6f",
   "metadata": {},
   "source": [
    "5. $= 0\\space NOK$ - In the down state, the call payoff is 0 NOK (because the option finishes out-of-the-money). Our portfolio combination has to replicate that 0 NOK payoff by summing exactly to zero."
   ]
  },
  {
   "cell_type": "markdown",
   "id": "5fa5d64e-c65f-4f94-8cb1-10285e343d96",
   "metadata": {},
   "source": [
    "### Solving for the number of DKK ($x$) in the replicating portfolio\n",
    "$$\n",
    "(1)\\space\\space\\space\\space x\\cdot1.10\\cdot1.039604+y\\cdot1.05=0.05\n",
    "$$\n",
    "\n",
    "$$\n",
    "(2)\\space\\space\\space\\space x\\cdot0.95\\cdot1.039604+y\\cdot1.05=0\n",
    "$$\n",
    "\n",
    "For cleariy, I have omitted the DKK/NOK units in the multipliers but the structure is the same."
   ]
  },
  {
   "cell_type": "markdown",
   "id": "7da286b1-a7bf-490a-8d75-bab44df4c5c8",
   "metadata": {},
   "source": [
    "Subtract equation (2) from (1):\n",
    "$$\n",
    "[x\\cdot1.10\\cdot1.039604+y\\cdot1.05] - [x\\cdot 0.95\\cdot 1.039604 + y \\cdot 1.05] = 0.05 - 0\n",
    "$$\n",
    "\n",
    "Observe that the $y\\cdot 1.05$ terms cancel out, leaving only terms with $x$."
   ]
  },
  {
   "cell_type": "markdown",
   "id": "a8cf52cd-a241-47d4-bcec-a37b99093400",
   "metadata": {},
   "source": [
    "$y$ is gone because $y\\cdot 1.05 - y\\cdot 1.05 = 0$. Combine $x$ and the common factor 1.039604, and lastly, the difference $1.10-0.95=0.15$. This means that we have:\n",
    "\n",
    "$$\n",
    "x\\cdot1.039604\\times0.15=0.05\n",
    "$$"
   ]
  },
  {
   "cell_type": "markdown",
   "id": "df70780e-7e96-45a3-870e-c78b199b4687",
   "metadata": {},
   "source": [
    "Divide both sides by $[1.039604\\times0.15]:$\n",
    "$$\n",
    "x=\\frac{0.05}{1.039604\\times0.15}\\approx0.3206349\\space DKK\n",
    "$$"
   ]
  },
  {
   "cell_type": "code",
   "execution_count": 38,
   "id": "ffd4aa87-0e7d-42f1-82c2-9b404ebb423e",
   "metadata": {},
   "outputs": [
    {
     "name": "stdout",
     "output_type": "stream",
     "text": [
      "x = 0.3206349084202575 DKK\n"
     ]
    }
   ],
   "source": [
    "# This is what it looks like in python\n",
    "x = 0.05 / (1.039604 * 0.15)\n",
    "print(f\"x = {x} DKK\")"
   ]
  },
  {
   "cell_type": "markdown",
   "id": "7f4bbcab-40bd-45ad-8d02-c11b22ec78aa",
   "metadata": {},
   "source": [
    "### Solving for the number of NOK ($y$) in the replicating portfolio\n",
    "We have the original (2) formula: $x\\cdot 0.095\\cdot 1.039604+y\\cdot1.05 = 0$\n",
    "\n",
    "Now that we have solved for $x$, we have: $0.3206349\\cdot 0.95\\cdot 1.039604+y\\cdot1.05=0$\n",
    "\n",
    "Let's do some python calculation for solving $y$"
   ]
  },
  {
   "cell_type": "code",
   "execution_count": 34,
   "id": "9afd89e1-ef1d-42a9-849a-192eb477601b",
   "metadata": {},
   "outputs": [
    {
     "data": {
      "text/plain": [
       "0.31666665835061997"
      ]
     },
     "execution_count": 34,
     "metadata": {},
     "output_type": "execute_result"
    }
   ],
   "source": [
    "# we don't need to compute for y * 1.05 because that is just = 1.05y\n",
    "prod_1 = 0.3206349 * 0.95 * 1.039604\n",
    "prod_1"
   ]
  },
  {
   "cell_type": "markdown",
   "id": "c2708b58-3e1d-4b40-ab49-716f404a4e42",
   "metadata": {},
   "source": [
    "Now the equation changes to: $0.31666665835061997 + 1.05y = 0$\n",
    "\n",
    "We continue on: $1.05y = -0.31666665835061997$\n",
    "\n",
    "Lastly we then have: $y=-\\frac{0.31666665835061997}{1.05}$"
   ]
  },
  {
   "cell_type": "code",
   "execution_count": 39,
   "id": "24238110-0f17-4fd2-b077-edd13e07c55b",
   "metadata": {},
   "outputs": [
    {
     "name": "stdout",
     "output_type": "stream",
     "text": [
      "y = -0.3015872936672571 NOK\n"
     ]
    }
   ],
   "source": [
    "y = -(0.31666665835061997 / 1.05)\n",
    "print(f\"y = {y} NOK\")"
   ]
  },
  {
   "cell_type": "markdown",
   "id": "f5e9799f-22b0-4131-9d82-1a7470c8b763",
   "metadata": {},
   "source": [
    "Then we have the answer: $y = -0.3015872936672571$ NOK"
   ]
  },
  {
   "cell_type": "markdown",
   "id": "d8522027-2569-45ab-a047-e39b399f4908",
   "metadata": {},
   "source": [
    "Cost of the replicating portfolio today, i.e., the price of the call option today:\n",
    "\n",
    "$$\n",
    "0.3206349084202575\\space DKK\\cdot 1.00 NOK/DKK -0.3015872936672571\\space NOK = 0.01904\\space NOK\n",
    "$$"
   ]
  },
  {
   "cell_type": "code",
   "execution_count": 49,
   "id": "c5683b3a-78f1-4a50-bdc0-51fee56a5f7b",
   "metadata": {},
   "outputs": [
    {
     "name": "stdout",
     "output_type": "stream",
     "text": [
      "price of the call option: 0.019047614753000375 NOK\n"
     ]
    }
   ],
   "source": [
    "# cost of replicating portfolio or price of the call option - python\n",
    "price = x * 1 + y\n",
    "print(f\"price of the call option: {price} NOK\")"
   ]
  },
  {
   "cell_type": "markdown",
   "id": "4c70a4a7-9a4a-416b-9bd2-51f459570192",
   "metadata": {},
   "source": [
    "Now what does the number 0.019047614753000375 NOK mean? It means that if you want to replicate the call's payoff - so that you receive exactly the same cash flow it delivers in either the up or down scenario - you would need to set up (and pay for) a portfolio consisting of $x$ DKK and $y$ NOK whose net time-0 cost is 0.01904 NOK. Hence, **the \"price of the call\"** is 0.01904 NOK: if you paid that amount up front and followed the replication strategy (investing a bit in DKK and shorting some NOK), you would end up with the same terminal payoff the call provides. That's why 0.01904 NOK is the fair or no-arbitrage value of the option."
   ]
  },
  {
   "cell_type": "markdown",
   "id": "1935c993-3598-4159-8e93-9af78066161e",
   "metadata": {},
   "source": [
    "Also, we could also check if the $x$ and $y$ value is correct by putting into the equation and expectating the answer of 0.05 and 0 NOK respectively."
   ]
  },
  {
   "cell_type": "code",
   "execution_count": 51,
   "id": "c93ceef6-7ddd-4d33-8e8f-ecac9f6d044a",
   "metadata": {},
   "outputs": [
    {
     "name": "stdout",
     "output_type": "stream",
     "text": [
      "eq1: 0.05000000831604673\n",
      "eq2: 8.316046740119987e-09\n"
     ]
    }
   ],
   "source": [
    "eq1 = x * 1.10 * 1.039604 + y * 1.05\n",
    "eq2 = x * 0.95 * 1.039604 + y * 1.05\n",
    "\n",
    "print(f\"eq1: {eq1}\")\n",
    "print(f\"eq2: {eq2}\")"
   ]
  },
  {
   "cell_type": "markdown",
   "id": "d9a51932-6095-4e6d-a666-009342d3dfa6",
   "metadata": {},
   "source": [
    "Eq2's value is so tiny (on the order of $10^{-9}$) that it indicates the result is effectively zero but is being displayed as a very small number due to floating-point rounding in the computer. In theory, from the algebraic equation, $eq2$ is exactly zero. However, because floating-point arithmetic cannot always represent real-numbers calculations exactly, you see a tiny residual such as 8.316 e-9 instead of a perfect zero."
   ]
  }
 ],
 "metadata": {
  "kernelspec": {
   "display_name": "Python 3 (ipykernel)",
   "language": "python",
   "name": "python3"
  },
  "language_info": {
   "codemirror_mode": {
    "name": "ipython",
    "version": 3
   },
   "file_extension": ".py",
   "mimetype": "text/x-python",
   "name": "python",
   "nbconvert_exporter": "python",
   "pygments_lexer": "ipython3",
   "version": "3.13.1"
  }
 },
 "nbformat": 4,
 "nbformat_minor": 5
}
